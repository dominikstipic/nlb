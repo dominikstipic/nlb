{
 "cells": [
  {
   "cell_type": "code",
   "execution_count": 1,
   "id": "b0ee6db9",
   "metadata": {},
   "outputs": [
    {
     "name": "stdout",
     "output_type": "stream",
     "text": [
      "Descriptive Statistics:\n",
      "count      1000.000000\n",
      "mean      49094.865850\n",
      "std       19750.540914\n",
      "min      -10922.861096\n",
      "25%       36031.598813\n",
      "50%       48839.439304\n",
      "75%       62139.012038\n",
      "max      105187.102280\n",
      "Name: Net Income, dtype: float64\n"
     ]
    },
    {
     "data": {
      "image/png": "[encoded data removed]",
      "text/plain": [
       "<Figure size 640x480 with 1 Axes>"
      ]
     },
     "metadata": {},
     "output_type": "display_data"
    },
    {
     "name": "stdout",
     "output_type": "stream",
     "text": [
      "99% Historical VaR: 2715.44\n",
      "99% Parametric VaR: 3148.24\n",
      "Economic Capital (3 x 99% Historical VaR): 8146.32\n",
      "Skewness: 0.03\n",
      "Kurtosis: -0.04\n",
      "\n",
      "--- Summary ---\n",
      "99% Historical VaR: 2715.44\n",
      "Economic Capital (3 x 99% Historical VaR): 8146.32\n",
      "Skewness: 0.03\n",
      "Kurtosis: -0.04\n"
     ]
    }
   ],
   "source": [
    "import numpy as np\n",
    "import pandas as pd\n",
    "import scipy.stats as st\n",
    "\n",
    "import numpy as np\n",
    "import pandas as pd\n",
    "import scipy.stats as st\n",
    "\n",
    "# Generate sample net income data (replace with your actual data)\n",
    "np.random.seed(0)  # for reproducibility\n",
    "net_income = pd.Series(np.random.normal(loc=50000, scale=20000, size=1000), name=\"Net Income\")\n",
    "\n",
    "# Or, load data from a CSV file\n",
    "# net_income = pd.read_csv(\"net_income_data.csv\")[\"Net Income\"]\n",
    "\n",
    "# Descriptive statistics\n",
    "print(\"Descriptive Statistics:\")\n",
    "print(net_income.describe())\n",
    "\n",
    "# Visualize the distribution (optional - requires matplotlib)\n",
    "import matplotlib.pyplot as plt\n",
    "net_income.hist(bins=30, density=True, alpha=0.6, color='b')\n",
    "plt.title(\"Distribution of Net Income\")\n",
    "plt.xlabel(\"Net Income\")\n",
    "plt.ylabel(\"Frequency\")\n",
    "plt.show()\n",
    "\n",
    "def calculate_var(data, confidence_level=0.99, method='historical'):\n",
    "    \"\"\"\n",
    "    Calculates Value at Risk (VaR) for a given dataset.\n",
    "\n",
    "    Parameters:\n",
    "    data (pd.Series): A Pandas Series containing the data.\n",
    "    confidence_level (float): The confidence level (e.g., 0.99 for 99% VaR).\n",
    "    method (str): The method for calculating VaR ('historical' or 'parametric').\n",
    "\n",
    "    Returns:\n",
    "    float: The VaR value.\n",
    "    \"\"\"\n",
    "    if method == 'historical':\n",
    "        var = data.quantile(1 - confidence_level)\n",
    "    elif method == 'parametric':\n",
    "        mean = data.mean()\n",
    "        std = data.std()\n",
    "        alpha = st.norm.ppf(1 - confidence_level)\n",
    "        var = mean + alpha * std\n",
    "    else:\n",
    "        raise ValueError(\"Invalid method. Choose 'historical' or 'parametric'.\")\n",
    "    return var\n",
    "\n",
    "# Calculate VaR\n",
    "var_99_historical = calculate_var(net_income, confidence_level=0.99, method='historical')\n",
    "var_99_parametric = calculate_var(net_income, confidence_level=0.99, method='parametric')\n",
    "\n",
    "print(f\"99% Historical VaR: {var_99_historical:.2f}\")\n",
    "print(f\"99% Parametric VaR: {var_99_parametric:.2f}\")\n",
    "\n",
    "def estimate_economic_capital(var, multiplier=3):\n",
    "    \"\"\"\n",
    "    Estimates Economic Capital based on VaR.\n",
    "\n",
    "    Parameters:\n",
    "    var (float): The Value at Risk.\n",
    "    multiplier (float): A multiplier to apply to the VaR (e.g., 3x VaR).\n",
    "\n",
    "    Returns:\n",
    "    float: The Economic Capital.\n",
    "    \"\"\"\n",
    "    ec = var * multiplier\n",
    "    return ec\n",
    "\n",
    "# Estimate Economic Capital\n",
    "economic_capital_99 = estimate_economic_capital(var_99_historical, multiplier=3)\n",
    "print(f\"Economic Capital (3 x 99% Historical VaR): {economic_capital_99:.2f}\")\n",
    "\n",
    "# Calculate skewness and kurtosis\n",
    "skewness = net_income.skew()\n",
    "kurtosis = net_income.kurtosis()\n",
    "\n",
    "print(f\"Skewness: {skewness:.2f}\")\n",
    "print(f\"Kurtosis: {kurtosis:.2f}\")\n",
    "\n",
    "print(\"\\n--- Summary ---\")\n",
    "print(f\"99% Historical VaR: {var_99_historical:.2f}\")\n",
    "print(f\"Economic Capital (3 x 99% Historical VaR): {economic_capital_99:.2f}\")\n",
    "print(f\"Skewness: {skewness:.2f}\")\n",
    "print(f\"Kurtosis: {kurtosis:.2f}\")"
   ]
  }
 ],
 "metadata": {
  "kernelspec": {
   "display_name": "base",
   "language": "python",
   "name": "python3"
  },
  "language_info": {
   "codemirror_mode": {
    "name": "ipython",
    "version": 3
   },
   "file_extension": ".py",
   "mimetype": "text/x-python",
   "name": "python",
   "nbconvert_exporter": "python",
   "pygments_lexer": "ipython3",
   "version": "3.12.2"
  }
 },
 "nbformat": 4,
 "nbformat_minor": 5
}
